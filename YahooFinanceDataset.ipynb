{
  "nbformat": 4,
  "nbformat_minor": 0,
  "metadata": {
    "colab": {
      "name": "YahooFinanceDataset.ipynb",
      "provenance": [],
      "authorship_tag": "ABX9TyPMmZcdSgkrw/x3LbUnYNz/",
      "include_colab_link": true
    },
    "kernelspec": {
      "name": "python3",
      "display_name": "Python 3"
    }
  },
  "cells": [
    {
      "cell_type": "markdown",
      "metadata": {
        "id": "view-in-github",
        "colab_type": "text"
      },
      "source": [
        "<a href=\"https://colab.research.google.com/github/FinanceML/Vector-autoregression-VAR-/blob/master/YahooFinanceDataset.ipynb\" target=\"_parent\"><img src=\"https://colab.research.google.com/assets/colab-badge.svg\" alt=\"Open In Colab\"/></a>"
      ]
    },
    {
      "cell_type": "markdown",
      "metadata": {
        "id": "euRAcs29wdyd"
      },
      "source": [
        "# import necessary modules"
      ]
    },
    {
      "cell_type": "code",
      "metadata": {
        "id": "ls3H7v3DwYDl"
      },
      "source": [
        "\n",
        "import yfinance as yf\n",
        "import pandas as pd\n"
      ],
      "execution_count": null,
      "outputs": []
    },
    {
      "cell_type": "markdown",
      "metadata": {
        "id": "a9dOGG_Jwr7H"
      },
      "source": [
        "# initialize system's parameters"
      ]
    },
    {
      "cell_type": "code",
      "metadata": {
        "id": "hkWgOKg_w2WL"
      },
      "source": [
        "dataset_period_parameter = '12mo'\n",
        "dataset_interval_parameter = '1d'\n",
        "'''\n",
        "Note: Some companies do not have sufficient \"minutely\" or \"hourly\" data. \n",
        "Please retrieve data on a \"per-day\" basis in order to have a \n",
        "complete dataset consisting of all valid companies inside the list.  \n",
        "'''\n",
        "list_of_types = ['Open', 'High', 'Low', 'Close',\n",
        "                 'Volume', 'Dividends', 'Stock Splits']\n",
        "stock_market_type = list_of_types[3]  # 'Close'"
      ],
      "execution_count": null,
      "outputs": []
    },
    {
      "cell_type": "markdown",
      "metadata": {
        "id": "g4Mm6dSjw-a_"
      },
      "source": [
        "#  load name of companies"
      ]
    },
    {
      "cell_type": "code",
      "metadata": {
        "id": "0XeABrraxW2O"
      },
      "source": [
        "with open('load_companies.py') as f_h:\n",
        "    exec(f_h.read())"
      ],
      "execution_count": null,
      "outputs": []
    },
    {
      "cell_type": "markdown",
      "metadata": {
        "id": "R-TUNgNJxbUE"
      },
      "source": [
        "# create a dataset of stock prices of loaded companies"
      ]
    },
    {
      "cell_type": "code",
      "metadata": {
        "id": "7OJFyFWnxdSQ"
      },
      "source": [
        "main_ds = pd.DataFrame()\n",
        "counter = 0\n",
        "for a_company_name in set(companies_list[:]):\n",
        "    counter += 1\n",
        "    print(f'Downloading info. of the \"{a_company_name} (# {counter})\" company...')\n",
        "    a_company = yf.Ticker(a_company_name)\n",
        "    a_company_history = a_company.history(period=dataset_period_parameter,\n",
        "                                          interval=dataset_interval_parameter)\n",
        "    if a_company_history.empty:\n",
        "        continue\n",
        "    a_company_stock = a_company_history[stock_market_type]\n",
        "    try:\n",
        "        main_ds[a_company_name] = a_company_stock\n",
        "    except:\n",
        "        len_main_ds = len(main_ds.index)\n",
        "        len_current_stock = len(a_company_stock.index)\n",
        "        if len_current_stock < len_main_ds:\n",
        "            error_message = 'Downloaded TimeSeries is shorter than expected.'\n",
        "            raise ValueError(error_message)\n",
        "        if len_current_stock > len_main_ds:\n",
        "            print('Warning: Downloaded TimeSeries is longer than expected.\\n'\n",
        "                  'The last valid values are selected into the dataset.')\n",
        "            a_company_stock = a_company_stock.iloc[len_current_stock-len_main_ds:]\n",
        "            main_ds[a_company_name] = a_company_stock"
      ],
      "execution_count": null,
      "outputs": []
    },
    {
      "cell_type": "markdown",
      "metadata": {
        "id": "7GYTr6jDxmai"
      },
      "source": [
        "# save the dataset into a \".csv\" file"
      ]
    },
    {
      "cell_type": "code",
      "metadata": {
        "id": "77yF7wonx-ZD"
      },
      "source": [
        "\n",
        "# %% save the dataset into a \".csv\" file\n",
        "dataset_name = f'last-{dataset_period_parameter}--int-{dataset_interval_parameter}'\n",
        "main_ds.to_csv(dataset_name + '.csv')\n",
        "\n",
        "# "
      ],
      "execution_count": null,
      "outputs": []
    }
  ]
}